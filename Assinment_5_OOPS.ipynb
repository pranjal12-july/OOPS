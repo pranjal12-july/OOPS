{
  "nbformat": 4,
  "nbformat_minor": 0,
  "metadata": {
    "colab": {
      "provenance": []
    },
    "kernelspec": {
      "name": "python3",
      "display_name": "Python 3"
    },
    "language_info": {
      "name": "python"
    }
  },
  "cells": [
    {
      "cell_type": "markdown",
      "source": [
        "\n",
        "\n",
        "**OOPS QUESTION**\n",
        "\n"
      ],
      "metadata": {
        "id": "nVHiUob22PvH"
      }
    },
    {
      "cell_type": "markdown",
      "source": [
        "Question 1.\n",
        "What is Object-Oriented Programming (OOP) ?\n",
        "\n",
        "Answer:\n",
        "Object-Oriented Programming (OOP) is a programming paradigm that organizes software design around objects rather than functions and logic. It focuses on four main principles: Encapsulation, Abstraction, Inheritance, and Polymorphism. OOP allows for better code organization, reusability, and scalability.\n",
        "\n",
        "Question 2.\n",
        " What is a class in OOP?\n",
        "\n",
        " Answer:\n",
        " A class is a blueprint for creating objects. It defines attributes (variables) and behaviors (methods) that its objects will have.\n",
        "\n",
        "Question 3.\n",
        " What is an object in OOP?\n",
        "\n",
        " Answer:\n",
        " An object is an instance of a class. It contains the attributes and behaviors defined by the class.\n",
        "\n",
        "Question 4.\n",
        " What is the difference between abstraction and encapsulation?\n",
        "\n",
        " Answer:\n",
        " Abstraction: Hides unnecessary details and only shows relevant data to the user. Achieved using abstract classes and interfaces.\n",
        "\n",
        "\n",
        "Encapsulation: Restricts direct access to an object's data and methods, bundling attributes with methods that operate on them. Achieved using access modifiers like _ (protected) and __ (private).\n",
        "\n",
        "Question 5.\n",
        "  What are dunder methods in Python?\n",
        "\n",
        "  Answer:\n",
        "  Dunder (Double Under) methods, also called magic methods, start and end with __. They provide special behaviors to Python objects.\n",
        "\n",
        "  Question 6.\n",
        "Explain the concept of inheritance in OOP.\n",
        "\n",
        "Answer:\n",
        "Inheritance allows a class (child) to inherit properties and methods from another class (parent).\n",
        "\n",
        "Question 7.\n",
        " What is polymorphism in OOP?\n",
        "\n",
        " Answer:\n",
        " Polymorphism allows the same method to have different implementations in different classes.\n",
        "\n",
        " Question 8.\n",
        " How is encapsulation achieved in Python?\n",
        "\n",
        " Answer:\n",
        " Encapsulation is achieved by using private (__), protected (_), and public attributes.\n",
        "\n",
        " Question 9.\n",
        " What is a constructor in Python?\n",
        "\n",
        " Answer:\n",
        " A constructor (__init__ method) is automatically called when an object is created.\n",
        "\n",
        " Question 10.\n",
        "What are class and static methods in Python?\n",
        "\n",
        "Answer:\n",
        "\n",
        "Class Methods (@classmethod): Work with the class itself, not instances.\n",
        "Static Methods (@staticmethod): Don’t modify class or instance data.\n",
        "\n",
        " Question 11.\n",
        "What is method overloading in Python\n",
        "\n",
        "Answer:\n",
        "\n",
        "Python does not support method overloading directly, but we can achieve it using default parameters.\n",
        "\n",
        "\n",
        " Question 12.\n",
        "What is method overriding in OOP?\n",
        "\n",
        "Answer:\n",
        "\n",
        "Method overriding allows a child class to provide a new implementation for a method inherited from a parent class\n",
        "\n",
        " Question 13.\n",
        "What is a property decorator in Python?\n",
        "\n",
        "Answer:\n",
        "\n",
        "The property decorator allows a method to be accessed like an attribute.\n",
        "\n",
        " Question 14.\n",
        " Why is polymorphism important in OOP?\n",
        "\n",
        " Answer:\n",
        "\n",
        "Polymorphism improves flexibility, reusability, and maintainability by allowing the same interface for different data types.\n",
        "\n",
        "\n",
        " Question 15.\n",
        " What is an abstract class in Python?\n",
        "\n",
        " Answer:\n",
        "\n",
        "An abstract class cannot be instantiated and must have at least one abstract method.\n",
        "\n",
        "\n",
        " Question 16.\n",
        "What are the advantages of OOP?\n",
        "\n",
        "Answer:\n",
        "\n",
        "Code reusability (through inheritance)\n",
        "Data hiding (via encapsulation)\n",
        "Modularity (by using objects)\n",
        "Scalability and flexibility\n",
        "\n",
        " Question 17.\n",
        "What is the difference between a class variable and an instance variable?\n",
        "\n",
        "Answer:\n",
        "\n",
        "Class Variable: Shared among all instances of a class.\n",
        "Instance Variable: Unique to each instance.\n",
        "\n",
        " Question 18.\n",
        " What is multiple inheritance in Python?\n",
        "\n",
        " Answer:\n",
        "\n",
        "Multiple inheritance allows a class to inherit from multiple parent classes.\n",
        "\n",
        " Question 19.\n",
        "Explain the purpose of ‘’__str__’ and ‘__repr__’ ‘ methods in Python.\n",
        "\n",
        "Answer:\n",
        "\n",
        "__str__: Used for user-friendly string representation.\n",
        "__repr__: Used for debugging (should return a valid object representation).\n",
        "\n",
        "\n",
        " Question 20.\n",
        " What is the significance of the ‘super()’ function in Python?\n",
        "\n",
        " Answer:\n",
        "\n",
        " The super() function calls a method from a parent class.\n",
        "\n",
        " Question 21.\n",
        " What is the significance of the __del__ method in Python?\n",
        "\n",
        " Answer:\n",
        "\n",
        "The __del__ method is known as the destructor. It’s called when an object is about to be destroyed (i.e., when its reference count reaches zero).\n",
        "It can be used for cleanup actions like closing files or network connections.\n",
        "\n",
        " Question 22.\n",
        "What is the difference between @staticmethod and @classmethod in Python?\n",
        "\n",
        "Answer:\n",
        "\n",
        "@staticmethod:\n",
        "Does not take a reference to the class (cls) or instance (self).\n",
        "Behaves like a regular function that happens to be in a class’s namespace.\n",
        "\n",
        "@classmethod:\n",
        "Takes a reference to the class itself (cls) as the first parameter.\n",
        "Can modify class state that applies across all instances.\n",
        "\n",
        " Question 23.\n",
        "How does polymorphism work in Python with inheritance?\n",
        "\n",
        "Answer:\n",
        "\n",
        "Polymorphism allows objects of different classes to be treated as objects of a common superclass.\n",
        "It’s often achieved by method overriding, where child classes provide their own implementation of a method defined in the parent class.\n",
        "\n",
        " Question 24.\n",
        "What is method chaining in Python OOP?\n",
        "\n",
        "Answer:\n",
        "\n",
        "Method chaining involves calling multiple methods on the same object in a single line, by having each method return self (the object itself).\n",
        "\n",
        "\n",
        " Question 25.\n",
        "What is the purpose of the __call__ method in Python?\n",
        "\n",
        "Answer:\n",
        "\n",
        "The __call__ method makes an instance of a class callable like a function.\n",
        "This can be useful for creating objects that can change behavior based on internal state or configuration."
      ],
      "metadata": {
        "id": "gLLysnrVxP8E"
      }
    },
    {
      "cell_type": "markdown",
      "source": [
        "**PRACTICAL QUESTIONS**"
      ],
      "metadata": {
        "id": "dhZI7z-u2aUs"
      }
    },
    {
      "cell_type": "markdown",
      "source": [
        "1. Create a parent class Animal with a method speak() that prints a generic message. Create a child class Dog\n",
        "that overrides the speak() method to print \"Bark!\"."
      ],
      "metadata": {
        "id": "kw1vIU_P2iov"
      }
    },
    {
      "cell_type": "code",
      "source": [
        "class Animal:\n",
        "    def speak(self):\n",
        "        print(\"Animal makes a sound\")\n",
        "\n",
        "class Dog(Animal):\n",
        "    def speak(self):\n",
        "        print(\"Bark!\")\n",
        "\n",
        ""
      ],
      "metadata": {
        "id": "Sp3FCSOy2i8A"
      },
      "execution_count": 5,
      "outputs": []
    },
    {
      "cell_type": "markdown",
      "source": [
        "2. Write a program to create an abstract class Shape with a method area(). Derive classes Circle and Rectangle\n",
        "from it and implement the area() method in both."
      ],
      "metadata": {
        "id": "H8JX8OP52jHL"
      }
    },
    {
      "cell_type": "code",
      "source": [
        "from abc import ABC, abstractmethod\n",
        "\n",
        "class Shape(ABC):\n",
        "    @abstractmethod\n",
        "    def area(self):\n",
        "        pass\n",
        "\n",
        "class Circle(Shape):\n",
        "    def __init__(self, radius):\n",
        "        self.radius = radius\n",
        "\n",
        "    def area(self):\n",
        "        return 3.14 * self.radius ** 2\n",
        "\n",
        "class Rectangle(Shape):\n",
        "    def __init__(self, length, width):\n",
        "        self.length = length\n",
        "        self.width = width\n",
        "\n",
        "    def area(self):\n",
        "        return self.length * self.width\n"
      ],
      "metadata": {
        "id": "IYIPXESh2jQm"
      },
      "execution_count": 6,
      "outputs": []
    },
    {
      "cell_type": "markdown",
      "source": [
        "3. Implement a multi-level inheritance scenario where a class Vehicle has an attribute type. Derive a class Car\n",
        "and further derive a class ElectricCar that adds a battery attribute."
      ],
      "metadata": {
        "id": "9B_HF6Zf2jZ8"
      }
    },
    {
      "cell_type": "code",
      "source": [
        "class Vehicle:\n",
        "    def __init__(self, vehicle_type):\n",
        "        self.type = vehicle_type\n",
        "\n",
        "class Car(Vehicle):\n",
        "    def __init__(self, brand, vehicle_type=\"Car\"):\n",
        "        super().__init__(vehicle_type)\n",
        "        self.brand = brand\n",
        "\n",
        "class ElectricCar(Car):\n",
        "    def __init__(self, brand, battery_capacity):\n",
        "        super().__init__(brand)\n",
        "        self.battery = battery_capacity\n"
      ],
      "metadata": {
        "id": "2tWehqGm2jk4"
      },
      "execution_count": 7,
      "outputs": []
    },
    {
      "cell_type": "markdown",
      "source": [
        "4. Implement a multi-level inheritance scenario where a class Vehicle has an attribute type. Derive a class Car\n",
        "and further derive a class ElectricCar that adds a battery attribute."
      ],
      "metadata": {
        "id": "ZJXFlsyU2jtN"
      }
    },
    {
      "cell_type": "code",
      "source": [
        "class BankAccount:\n",
        "    def __init__(self, balance):\n",
        "        self.__balance = balance  # Private attribute\n",
        "\n",
        "    def deposit(self, amount):\n",
        "        self.__balance += amount\n",
        "        print(f\"Deposited: {amount}\")\n",
        "\n",
        "    def withdraw(self, amount):\n",
        "        if amount > self.__balance:\n",
        "            print(\"Insufficient balance!\")\n",
        "        else:\n",
        "            self.__balance -= amount\n",
        "            print(f\"Withdrawn: {amount}\")\n",
        "\n",
        "    def get_balance(self):\n",
        "        return self.__balance"
      ],
      "metadata": {
        "id": "-xXMTlBF2j22"
      },
      "execution_count": 15,
      "outputs": []
    },
    {
      "cell_type": "markdown",
      "source": [
        "5. Write a program to demonstrate encapsulation by creating a class BankAccount with private attributes\n",
        "balance and methods to deposit, withdraw, and check balance."
      ],
      "metadata": {
        "id": "KUAY3qWK2j_2"
      }
    },
    {
      "cell_type": "code",
      "source": [
        "class Instrument:\n",
        "    def play(self):\n",
        "        print(\"Instrument is playing\")\n",
        "\n",
        "class Guitar(Instrument):\n",
        "    def play(self):\n",
        "        print(\"Playing the guitar\")\n",
        "\n",
        "class Piano(Instrument):\n",
        "    def play(self):\n",
        "        print(\"Playing the piano\")\n"
      ],
      "metadata": {
        "id": "oRA4hUZO2kIk"
      },
      "execution_count": 8,
      "outputs": []
    },
    {
      "cell_type": "markdown",
      "source": [
        "6. Demonstrate runtime polymorphism using a method play() in a base class Instrument. Derive classes Guitar\n",
        "and Piano that implement their own version of play()."
      ],
      "metadata": {
        "id": "sjQdYLKk2kRa"
      }
    },
    {
      "cell_type": "code",
      "source": [
        "class MathOperations:\n",
        "    @classmethod\n",
        "    def add_numbers(cls, a, b):\n",
        "        return a + b\n",
        "\n",
        "    @staticmethod\n",
        "    def subtract_numbers(a, b):\n",
        "        return a - b\n"
      ],
      "metadata": {
        "id": "fAMpWd7W2kZx"
      },
      "execution_count": 16,
      "outputs": []
    },
    {
      "cell_type": "markdown",
      "source": [
        "7. Create a class MathOperations with a class method add_numbers() to add two numbers and a static\n",
        "method subtract_numbers() to subtract two numbers"
      ],
      "metadata": {
        "id": "gcNVpxnI2ki2"
      }
    },
    {
      "cell_type": "code",
      "source": [
        "class Person:\n",
        "    count = 0  # Class variable to track count\n",
        "\n",
        "    def __init__(self, name):\n",
        "        self.name = name\n",
        "        Person.count += 1  # Increment count when new instance is created\n",
        "\n",
        "    @classmethod\n",
        "    def get_count(cls):\n",
        "        return cls.count"
      ],
      "metadata": {
        "id": "GVBoCq9z2krg"
      },
      "execution_count": 10,
      "outputs": []
    },
    {
      "cell_type": "markdown",
      "source": [
        "8. Implement a class Person with a class method to count the total number of persons created."
      ],
      "metadata": {
        "id": "4ybW1TH32k0V"
      }
    },
    {
      "cell_type": "code",
      "source": [
        "class Fraction:\n",
        "    def __init__(self, numerator, denominator):\n",
        "        self.numerator = numerator\n",
        "        self.denominator = denominator\n",
        "\n",
        "    def __str__(self):\n",
        "        return f\"{self.numerator}/{self.denominator}\"\n"
      ],
      "metadata": {
        "id": "qPpncV_o2k9N"
      },
      "execution_count": 17,
      "outputs": []
    },
    {
      "cell_type": "markdown",
      "source": [
        "9. Write a class Fraction with attributes numerator and denominator. Override the str method to display the\n",
        "fraction as \"numerator/denominator\"."
      ],
      "metadata": {
        "id": "mi-a1pLI2lHD"
      }
    },
    {
      "cell_type": "code",
      "source": [
        "class Fraction:\n",
        "    def __init__(self, numerator, denominator):\n",
        "        self.numerator = numerator\n",
        "        self.denominator = denominator\n",
        "\n",
        "    def __str__(self):\n",
        "        return f\"{self.numerator}/{self.denominator}\"\n"
      ],
      "metadata": {
        "id": "2CWECf-q2lQN"
      },
      "execution_count": 18,
      "outputs": []
    },
    {
      "cell_type": "markdown",
      "source": [
        "10. Demonstrate operator overloading by creating a class Vector and overriding the add method to add two\n",
        "vectors."
      ],
      "metadata": {
        "id": "NJtiVD1Y2lde"
      }
    },
    {
      "cell_type": "code",
      "source": [
        "class Vector:\n",
        "    def __init__(self, x, y):\n",
        "        self.x = x\n",
        "        self.y = y\n",
        "\n",
        "    def __add__(self, other):\n",
        "        return Vector(self.x + other.x, self.y + other.y)\n",
        "\n",
        "    def __str__(self):\n",
        "        return f\"Vector({self.x}, {self.y})\""
      ],
      "metadata": {
        "id": "a8u8B_9C2lmo"
      },
      "execution_count": 11,
      "outputs": []
    },
    {
      "cell_type": "markdown",
      "source": [
        "11. Create a class Person with attributes name and age. Add a method greet() that prints \"Hello, my name is\n",
        "{name} and I am {age} years old.\""
      ],
      "metadata": {
        "id": "8mwd_tgz2lve"
      }
    },
    {
      "cell_type": "code",
      "source": [
        "class Person:\n",
        "    def __init__(self, name, age):\n",
        "        self.name = name\n",
        "        self.age = age\n",
        "\n",
        "    def greet(self):\n",
        "        print(f\"Hello, my name is {self.name} and I am {self.age} years old.\")"
      ],
      "metadata": {
        "id": "GvjodrX82l3w"
      },
      "execution_count": 12,
      "outputs": []
    },
    {
      "cell_type": "markdown",
      "source": [
        "12. Implement a class Student with attributes name and grades. Create a method average_grade() to compute\n",
        "the average of the grades."
      ],
      "metadata": {
        "id": "Dsbdccbd2mAJ"
      }
    },
    {
      "cell_type": "code",
      "source": [
        "\n",
        "class Student:\n",
        "    def __init__(self, name, grades):\n",
        "        self.name = name\n",
        "        self.grades = grades\n",
        "\n",
        "    def average_grade(self):\n",
        "        return sum(self.grades) / len(self.grades)"
      ],
      "metadata": {
        "id": "FoIs641A2mJN"
      },
      "execution_count": 13,
      "outputs": []
    },
    {
      "cell_type": "markdown",
      "source": [
        "13. Create a class Rectangle with methods set_dimensions() to set the dimensions and area() to calculate the\n",
        "area."
      ],
      "metadata": {
        "id": "sMOv023C2me0"
      }
    },
    {
      "cell_type": "code",
      "source": [
        "class Rectangle:\n",
        "    def __init__(self):\n",
        "        self.length = 0\n",
        "        self.width = 0\n",
        "\n",
        "    def set_dimensions(self, length, width):\n",
        "        self.length = length\n",
        "        self.width = width\n",
        "\n",
        "    def area(self):\n",
        "        return self.length * self.width"
      ],
      "metadata": {
        "id": "6yn2vmGM2mpA"
      },
      "execution_count": 19,
      "outputs": []
    },
    {
      "cell_type": "markdown",
      "source": [
        "14. Create a class Employee with a method calculate_salary() that computes the salary based on hours worked\n",
        "and hourly rate. Create a derived class Manager that adds a bonus to the salary"
      ],
      "metadata": {
        "id": "XCTjciMJ2myJ"
      }
    },
    {
      "cell_type": "code",
      "source": [
        "class Employee:\n",
        "    def __init__(self, hours_worked, hourly_rate):\n",
        "        self.hours_worked = hours_worked\n",
        "        self.hourly_rate = hourly_rate\n",
        "\n",
        "    def calculate_salary(self):\n",
        "        return self.hours_worked * self.hourly_rate\n",
        "\n",
        "class Manager(Employee):\n",
        "    def __init__(self, hours_worked, hourly_rate, bonus):\n",
        "        super().__init__(hours_worked, hourly_rate)\n",
        "        self.bonus = bonus\n",
        "\n",
        "    def calculate_salary(self):\n",
        "        return super().calculate_salary() + self.bonus\n"
      ],
      "metadata": {
        "id": "FRDZi9Yp2m7u"
      },
      "execution_count": 14,
      "outputs": []
    },
    {
      "cell_type": "markdown",
      "source": [
        "15. Create a class Product with attributes name, price, and quantity. Implement a method total_price() that\n",
        "calculates the total price of the product."
      ],
      "metadata": {
        "id": "EutxqinJ2oGg"
      }
    },
    {
      "cell_type": "code",
      "source": [
        "class Product:\n",
        "    def __init__(self, name, price, quantity):\n",
        "        self.name = name\n",
        "        self.price = price\n",
        "        self.quantity = quantity\n",
        "\n",
        "    def total_price(self):\n",
        "        return self.price * self.quantity\n"
      ],
      "metadata": {
        "id": "d-WG8DV_2oQW"
      },
      "execution_count": 20,
      "outputs": []
    },
    {
      "cell_type": "markdown",
      "source": [
        "16. Create a class Animal with an abstract method sound(). Create two derived classes Cow and Sheep that\n",
        "implement the sound() method"
      ],
      "metadata": {
        "id": "5RXMkdXe2obA"
      }
    },
    {
      "cell_type": "code",
      "source": [
        "from abc import ABC, abstractmethod\n",
        "\n",
        "class Animal(ABC):\n",
        "    @abstractmethod\n",
        "    def sound(self):\n",
        "        pass\n",
        "\n",
        "class Cow(Animal):\n",
        "    def sound(self):\n",
        "        return \"Moo!\"\n",
        "\n",
        "class Sheep(Animal):\n",
        "    def sound(self):\n",
        "        return \"Baa!\"\n"
      ],
      "metadata": {
        "id": "LLyxNk0u2oks"
      },
      "execution_count": 21,
      "outputs": []
    },
    {
      "cell_type": "markdown",
      "source": [
        "17. Create a class Book with attributes title, author, and year_published. Add a method get_book_info() that\n",
        "returns a formatted string with the book's details."
      ],
      "metadata": {
        "id": "u1RDqmvP2o4t"
      }
    },
    {
      "cell_type": "code",
      "source": [
        "class Book:\n",
        "    def __init__(self, title, author, year_published):\n",
        "        self.title = title\n",
        "        self.author = author\n",
        "        self.year_published = year_published\n",
        "\n",
        "    def get_book_info(self):\n",
        "        return f\"'{self.title}' by {self.author}, published in {self.year_published}.\"\n"
      ],
      "metadata": {
        "id": "guFM5Scj2pCq"
      },
      "execution_count": 22,
      "outputs": []
    },
    {
      "cell_type": "markdown",
      "source": [
        "18. Create a class House with attributes address and price. Create a derived class Mansion that adds an\n",
        "attribute number_of_rooms."
      ],
      "metadata": {
        "id": "ZeruQPXi2pQK"
      }
    },
    {
      "cell_type": "code",
      "source": [
        "class House:\n",
        "    def __init__(self, address, price):\n",
        "        self.address = address\n",
        "        self.price = price\n",
        "\n",
        "class Mansion(House):\n",
        "    def __init__(self, address, price, number_of_rooms):\n",
        "        super().__init__(address, price)\n",
        "        self.number_of_rooms = number_of_rooms\n",
        "\n"
      ],
      "metadata": {
        "id": "b0DFjGI02pbF"
      },
      "execution_count": 23,
      "outputs": []
    }
  ]
}